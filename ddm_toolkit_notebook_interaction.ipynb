{
 "cells": [
  {
   "cell_type": "code",
   "execution_count": 1,
   "id": "powered-torture",
   "metadata": {},
   "outputs": [],
   "source": [
    "from ddm_toolkit import isnotebook"
   ]
  },
  {
   "cell_type": "code",
   "execution_count": 2,
   "id": "sufficient-simulation",
   "metadata": {},
   "outputs": [
    {
     "data": {
      "text/plain": [
       "True"
      ]
     },
     "execution_count": 2,
     "metadata": {},
     "output_type": "execute_result"
    }
   ],
   "source": [
    "isnotebook()"
   ]
  },
  {
   "cell_type": "code",
   "execution_count": 3,
   "id": "defensive-peace",
   "metadata": {},
   "outputs": [
    {
     "name": "stdout",
     "output_type": "stream",
     "text": [
      "isnotebook():  True\n"
     ]
    }
   ],
   "source": [
    "%run tests/test_6_test_utility_functions.py"
   ]
  },
  {
   "cell_type": "raw",
   "id": "excess-behalf",
   "metadata": {},
   "source": []
  }
 ],
 "metadata": {
  "kernelspec": {
   "display_name": "Python 3",
   "language": "python",
   "name": "python3"
  },
  "language_info": {
   "codemirror_mode": {
    "name": "ipython",
    "version": 3
   },
   "file_extension": ".py",
   "mimetype": "text/x-python",
   "name": "python",
   "nbconvert_exporter": "python",
   "pygments_lexer": "ipython3",
   "version": "3.8.6"
  }
 },
 "nbformat": 4,
 "nbformat_minor": 5
}
